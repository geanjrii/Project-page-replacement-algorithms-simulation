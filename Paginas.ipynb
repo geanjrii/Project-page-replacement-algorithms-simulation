{
 "cells": [
  {
   "cell_type": "code",
   "execution_count": 1,
   "id": "57a69593-605d-4c6b-ad87-d18eb3e3f1fc",
   "metadata": {},
   "outputs": [
    {
     "name": "stdout",
     "output_type": "stream",
     "text": [
      "FIFO 10\n",
      "OTM 6\n",
      "LRU 8\n"
     ]
    }
   ],
   "source": [
    "def lerArquivo(filePath):\n",
    "    file = open(filePath, 'r')\n",
    "    dados = []\n",
    "    for i in file:    \n",
    "        dados.append(int(i.split()[0]))        \n",
    "    file.close()\n",
    "    \n",
    "    quantidade_quadros = dados[0]\n",
    "    paginas =  dados[1:]\n",
    "    return quantidade_quadros, paginas\n",
    "\n",
    "def FIFO(paginas, quantidade_quadros):\n",
    "    quadro_atual = []\n",
    "    paginas_faltando = 0\n",
    "    \n",
    "    for pagina in paginas:    \n",
    "        if pagina not in quadro_atual:\n",
    "            paginas_faltando +=1\n",
    "            if len(quadro_atual) == quantidade_quadros:\n",
    "                quadro_atual.remove(quadro_atual[0])                \n",
    "            quadro_atual.append(pagina)\n",
    "            \n",
    "    retorno = f'FIFO {paginas_faltando}'\n",
    "    print(retorno)\n",
    "    return retorno\n",
    "\n",
    "def LRU(paginas, quantidade_quadros):\n",
    "    quadro_atual = [] \n",
    "    paginas_faltando = 0\n",
    "    \n",
    "    for pagina in paginas:    \n",
    "        if pagina not in quadro_atual:\n",
    "            paginas_faltando +=1\n",
    "            if len(quadro_atual) == quantidade_quadros:\n",
    "                quadro_atual.remove(quadro_atual[0])                \n",
    "            quadro_atual.append(pagina)            \n",
    "        else:                     \n",
    "            quadro_atual.remove(pagina)\n",
    "            quadro_atual.append(pagina)   \n",
    "    \n",
    "    retorno = f'LRU {paginas_faltando}'\n",
    "    print(retorno)\n",
    "    return retorno    \n",
    "\n",
    "def OTM(paginas, quantidade_quadros):\n",
    "    quadro_atual = []\n",
    "    paginas_faltando = 0\n",
    "    \n",
    "    for i in range(len(paginas)): \n",
    "        lista = []\n",
    "        if paginas[i] not in quadro_atual:\n",
    "            paginas_faltando +=1\n",
    "            if len(quadro_atual) == quantidade_quadros:    \n",
    "                \n",
    "                if i <= len(paginas): \n",
    "                    for pagina in paginas[i+1:]:\n",
    "                        if pagina in quadro_atual:                           \n",
    "                            if pagina in lista:\n",
    "                                lista.remove(pagina)                                \n",
    "                            lista.append(pagina)  \n",
    "                            \n",
    "                for pagina in quadro_atual[::-1]:\n",
    "                    if pagina not in lista:\n",
    "                        lista += [pagina]                \n",
    "                \n",
    "                quadro_atual.remove(lista[-1])\n",
    "            quadro_atual.append(paginas[i])            \n",
    "        \n",
    "    retorno = f'OTM {paginas_faltando}'\n",
    "    print(retorno)\n",
    "    return retorno\n",
    "    \n",
    "def gravarArquivo(paginas, quantidade_quadros):\n",
    "    arquivo = open('paginasOutput.txt', 'w')\n",
    "    arquivo.write(f\"{FIFO(paginas, quantidade_quadros)}\\n\")\n",
    "    arquivo.write(f\"{OTM(paginas, quantidade_quadros)}\\n\")\n",
    "    arquivo.write(f\"{LRU(paginas, quantidade_quadros)}\\n\")    \n",
    "\n",
    "    \n",
    "def main():    \n",
    "    quantidade_quadros, paginas = lerArquivo('paginasInput.txt')\n",
    "    gravarArquivo(paginas, quantidade_quadros)    \n",
    "    \n",
    "if __name__ == \"__main__\":\n",
    "    main()"
   ]
  }
 ],
 "metadata": {
  "kernelspec": {
   "display_name": "Python 3",
   "language": "python",
   "name": "python3"
  },
  "language_info": {
   "codemirror_mode": {
    "name": "ipython",
    "version": 3
   },
   "file_extension": ".py",
   "mimetype": "text/x-python",
   "name": "python",
   "nbconvert_exporter": "python",
   "pygments_lexer": "ipython3",
   "version": "3.10.6"
  },
  "vscode": {
   "interpreter": {
    "hash": "916dbcbb3f70747c44a77c7bcd40155683ae19c65e1c03b4aa3499c5328201f1"
   }
  }
 },
 "nbformat": 4,
 "nbformat_minor": 5
}
